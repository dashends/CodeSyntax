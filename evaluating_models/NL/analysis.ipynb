{
 "cells": [
  {
   "cell_type": "markdown",
   "metadata": {},
   "source": [
    "# BERT's Attention and Dependency Syntax\n",
    "\n",
    "This notebook contains code for comparing BERT's attention to dependency syntax annotations (see Sections 4.2 and 5 of [What Does BERT Look At? An Analysis of BERT's Attention](https://arxiv.org/abs/1906.04341))"
   ]
  },
  {
   "cell_type": "code",
   "execution_count": 1,
   "metadata": {},
   "outputs": [],
   "source": [
    "import collections\n",
    "import pickle\n",
    "import numpy as np\n",
    "import tensorflow as tf\n",
    "from matplotlib import pyplot as plt\n",
    "import json "
   ]
  },
  {
   "cell_type": "code",
   "execution_count": 2,
   "metadata": {},
   "outputs": [],
   "source": [
    "plt.rcParams.update({'font.size': 14})"
   ]
  },
  {
   "cell_type": "code",
   "execution_count": 3,
   "metadata": {},
   "outputs": [],
   "source": [
    "def get_relns_NL(dataset):\n",
    "    relns = set()\n",
    "    for example in dataset:\n",
    "        for reln in example[\"relns\"]:\n",
    "            relns.add(reln)\n",
    "    relns = list(relns)\n",
    "    relns.sort()\n",
    "    relns.remove(\"root\")\n",
    "    return relns\n",
    "\n",
    "\n",
    "# average topk scores for each relationship and categories (word level)\n",
    "def get_avg_NL(scores, relns, max_k=20):\n",
    "    reln_avg = [None]*(max_k+1)\n",
    "\n",
    "    for k in range(1, (max_k+1)):\n",
    "        sum, count = 0, 0\n",
    "        for reln in relns:\n",
    "            flatten_idx = np.argmax(scores[reln][:,:,k])\n",
    "            num_head = scores[reln].shape[1]\n",
    "            # print(num_head)\n",
    "            row = int(flatten_idx/num_head)\n",
    "            col = flatten_idx % num_head\n",
    "            sum += scores[reln][row][col][k]\n",
    "            count += 1\n",
    "        reln_avg[k] = sum/count\n",
    "    return reln_avg\n",
    "\n",
    "def print_attn_table_NL(k, relns, scores):\n",
    "    print(\"relationship\\t\\t  accuracy\\tlayer\\thead\")\n",
    "    sum, count = 0, 0\n",
    "    table = \"\"\n",
    "    for reln in relns:\n",
    "        flatten_idx = np.argmax(scores[reln][:,:,k])\n",
    "        num_head = scores[reln].shape[1]\n",
    "        row = int(flatten_idx/num_head)\n",
    "        col = flatten_idx % num_head\n",
    "        table += reln.ljust(30) + str(round(scores[reln][row][col][k],3)).ljust(5) + \"\\t\" + str(row) + \"\\t\" + str(col) + '\\n'\n",
    "        sum += scores[reln][row][col][k]\n",
    "        count += 1\n",
    "    print(table)\n",
    "    print(\"average of\",count,\"relations:\", sum/count)\n",
    "\n",
    "\n",
    "\n",
    "def get_scores_topk(reln_scores_topk, max_k=20):\n",
    "    scores_topk = [0]*(max_k+1)\n",
    "    for k in range(1, max_k+1):\n",
    "        sum, count = 0, 0\n",
    "        for key, value in reln_scores_topk.items():\n",
    "            sum += value[k][0]\n",
    "            count += 1\n",
    "        scores_topk[k] = sum/count\n",
    "    last = 0\n",
    "    for i in range(0, max_k+1):\n",
    "        if scores_topk[i] == 0:\n",
    "            scores_topk[i] = last\n",
    "        else:\n",
    "            last = scores_topk[i]\n",
    "    return scores_topk\n",
    "\n",
    "def get_relns_by_frequency(dataset):\n",
    "    reln_counts = collections.Counter()\n",
    "    for example in dataset:\n",
    "        for reln in example[\"relns\"]:\n",
    "            reln_counts[reln] += 1\n",
    "    relns = reln_counts.most_common()\n",
    "    return relns\n",
    "\n",
    "def print_attn_baseline_table_NL(k, relns, scores, names):\n",
    "    sums, count = [0]*len(scores), 0\n",
    "    table = \"relation\\t\" + '\\t'.join(names)\n",
    "    for reln in relns:\n",
    "        table += '\\n' + reln.ljust(10)\n",
    "        count += 1\n",
    "        for i, score in enumerate(scores):\n",
    "            if names[i] != \"offset\":\n",
    "                flatten_idx = np.argmax(score[reln][:,:,k])\n",
    "                num_head = score[reln].shape[1]\n",
    "                row = int(flatten_idx/num_head)\n",
    "                col = flatten_idx % num_head\n",
    "                table += '\\t'+str(round(score[reln][row][col][k],3)).ljust(5) +\" (\" + str(row)+\"-\"+str(col) +\")\"\n",
    "                sums[i] += score[reln][row][col][k]\n",
    "            else:\n",
    "                table += \"\\t\" + str(round(score[reln][k][0],3)).ljust(5) +\" (\"+ str(score[reln][k][1])[1:-1] +\")\"\n",
    "                sums[i] += score[reln][k][0]\n",
    "                \n",
    "    print(table, \"\\n\")\n",
    "    print(count, \"relations\")\n",
    "    for i, score in enumerate(scores):\n",
    "        print(\"average score for\", names[i], \":\", sums[i]/count)"
   ]
  },
  {
   "cell_type": "markdown",
   "metadata": {},
   "source": [
    "# English Results"
   ]
  },
  {
   "cell_type": "code",
   "execution_count": 6,
   "metadata": {},
   "outputs": [
    {
     "name": "stdout",
     "output_type": "stream",
     "text": [
      "['acomp', 'advcl', 'advmod', 'amod', 'appos', 'aux', 'auxpass', 'cc', 'ccomp', 'conj', 'cop', 'csubj', 'csubjpass', 'dep', 'det', 'discourse', 'dobj', 'expl', 'iobj', 'mark', 'mwe', 'neg', 'nn', 'npadvmod', 'nsubj', 'nsubjpass', 'num', 'number', 'parataxis', 'pcomp', 'pobj', 'poss', 'possessive', 'preconj', 'predet', 'prep', 'prt', 'punct', 'quantmod', 'rcmod', 'tmod', 'vmod', 'xcomp']\n",
      "bert base 62.4 81.6 95.8 99.2\n",
      "bert large 64.6 83.2 96.3 99.3\n",
      "roberta base 62.7 84.3 96.9 99.4\n",
      "roberta large 59.9 81.2 96.3 99.3\n",
      "codebert 59.3 79.7 95.2 99.1\n",
      "offset 47.1 72.7 91.0 96.6\n"
     ]
    },
    {
     "data": {
      "image/png": "[encoded data removed]",
      "text/plain": [
       "<Figure size 432x288 with 1 Axes>"
      ]
     },
     "metadata": {
      "needs_background": "light"
     },
     "output_type": "display_data"
    }
   ],
   "source": [
    "with open(\"data/depparse_english/dev.json\", \"r\") as f:\n",
    "    dataset = json.load(f)\n",
    "relns = get_relns_NL(dataset)\n",
    "print(relns)\n",
    "\n",
    "with open(\"data/depparse_english/bert_base_topk_scores_cased.pkl\", \"rb\") as f:\n",
    "    scores = pickle.load(f)\n",
    "reln_avg = get_avg_NL(scores, relns, max_k=20)\n",
    "\n",
    "with open(\"data/depparse_english/bert_large_topk_scores_cased.pkl\", \"rb\") as f:\n",
    "    bert_large_scores = pickle.load(f)\n",
    "bert_large_reln_avg = get_avg_NL(bert_large_scores, relns, max_k=20)\n",
    "\n",
    "with open(\"data/depparse_english/roberta_base_topk_scores.pkl\", \"rb\") as f:\n",
    "    roberta_base_scores = pickle.load(f)\n",
    "roberta_base_reln_avg = get_avg_NL(roberta_base_scores, relns, max_k=20)\n",
    "\n",
    "with open(\"data/depparse_english/roberta_large_topk_scores.pkl\", \"rb\") as f:\n",
    "    roberta_large_scores = pickle.load(f)\n",
    "roberta_large_reln_avg = get_avg_NL(roberta_large_scores, relns, max_k=20)\n",
    "\n",
    "with open(\"data/depparse_english/roberta_base_topk_scores_offset.pkl\", \"rb\") as f:\n",
    "    reln_scores_topk_offset = pickle.load(f)\n",
    "scores_topk_offset = get_scores_topk(reln_scores_topk_offset, max_k=20)\n",
    "\n",
    "with open(\"data/depparse_english/NL_codebert_topk_scores.pkl\", \"rb\") as f:\n",
    "    codebert_scores = pickle.load(f)\n",
    "codebert_reln_avg = get_avg_NL(codebert_scores, relns, max_k=20)\n",
    "\n",
    "print(\"bert base\", round(reln_avg[1]*100, 1), round(reln_avg[3]*100, 1), round(reln_avg[10]*100, 1), round(reln_avg[20]*100, 1))\n",
    "print(\"bert large\", round(bert_large_reln_avg[1]*100, 1), round(bert_large_reln_avg[3]*100, 1), \n",
    "      round(bert_large_reln_avg[10]*100, 1), round(bert_large_reln_avg[20]*100, 1))\n",
    "print(\"roberta base\", round(roberta_base_reln_avg[1]*100, 1), round(roberta_base_reln_avg[3]*100, 1), \n",
    "      round(roberta_base_reln_avg[10]*100, 1), round(roberta_base_reln_avg[20]*100, 1))\n",
    "print(\"roberta large\", round(roberta_large_reln_avg[1]*100, 1), round(roberta_large_reln_avg[3]*100, 1), \n",
    "      round(roberta_large_reln_avg[10]*100, 1), round(roberta_large_reln_avg[20]*100, 1))\n",
    "print(\"codebert\", round(codebert_reln_avg[1]*100, 1), round(codebert_reln_avg[3]*100, 1), \n",
    "      round(codebert_reln_avg[10]*100, 1), round(codebert_reln_avg[20]*100, 1))\n",
    "print(\"offset\", round(scores_topk_offset[1]*100, 1), round(scores_topk_offset[3]*100, 1), \n",
    "                                                   round(scores_topk_offset[10]*100, 1), round(scores_topk_offset[20]*100, 1))\n",
    "\n",
    "plt.rcParams[\"figure.figsize\"] = (8,5)\n",
    "x = [k for k in range(1, 21)]\n",
    "plt.plot(x, reln_avg[1:21], label = \"BERT-base\")  # attention score\n",
    "plt.plot(x, bert_large_reln_avg[1:21], label = \"BERT-large\")  # attention score\n",
    "plt.plot(x, roberta_base_reln_avg[1:21], label = \"RoBERTa-base\")  # attention score\n",
    "plt.plot(x, roberta_large_reln_avg[1:21], label = \"RoBERTa-large\")  # attention score\n",
    "# plt.plot(x, codebert_reln_avg[1:21], label = \"CodeBERT\")  # attention score\n",
    "plt.plot(x, scores_topk_offset[1:21] ,  label = \"Offset\")\n",
    "\n",
    "plt.xticks(range(1,22, 2))\n",
    "plt.xlabel(\"k\")\n",
    "plt.ylabel(\"Average Score\")\n",
    "# plt.title(\"NL English\")\n",
    "plt.legend(framealpha=1, frameon=True, loc='lower right');\n",
    "plt.ylim([0.4, 1.05])\n",
    "fig = plt.gcf()\n",
    "fig.set_size_inches(6., 4)\n",
    "fig.savefig(\"../../data/figures/English.pdf\", bbox_inches='tight')\n",
    "plt.show()\n",
    "\n",
    "# keywords only: 52 keywords\n",
    "# offset only: 512 offsets\n",
    "# keywords+offset: max of two\n"
   ]
  },
  {
   "cell_type": "code",
   "execution_count": 7,
   "metadata": {
    "scrolled": false
   },
   "outputs": [
    {
     "name": "stdout",
     "output_type": "stream",
     "text": [
      "relation\tBERT Base\tBERT Large\tRoBERTa base\tRoBERTa large\toffset\n",
      "punct     \t0.253 (6-4)\t0.316 (14-10)\t0.241 (5-3)\t0.18  (3-14)\t0.176 (-1)\n",
      "prep      \t0.712 (6-2)\t0.734 (15-0)\t0.675 (10-2)\t0.652 (5-1)\t0.624 (-1)\n",
      "pobj      \t0.681 (8-0)\t0.657 (15-8)\t0.611 (9-0)\t0.75  (8-6)\t0.354 (-2)\n",
      "nn        \t0.75  (5-4)\t0.728 (11-12)\t0.777 (8-0)\t0.745 (1-9)\t0.745 (1)\n",
      "det       \t0.938 (6-4)\t0.945 (14-6)\t0.879 (2-0)\t0.816 (5-2)\t0.532 (1)\n",
      "nsubj     \t0.574 (8-9)\t0.542 (16-5)\t0.578 (3-9)\t0.554 (4-5)\t0.439 (1)\n",
      "amod      \t0.755 (5-4)\t0.841 (14-6)\t0.83  (7-11)\t0.744 (4-6)\t0.668 (1)\n",
      "dobj      \t0.827 (5-7)\t0.768 (16-13)\t0.77  (9-0)\t0.663 (4-2)\t0.375 (-2)\n",
      "aux       \t0.808 (6-8)\t0.86  (15-13)\t0.813 (3-1)\t0.831 (5-2)\t0.712 (1)\n",
      "advmod    \t0.602 (5-6)\t0.542 (11-2)\t0.551 (3-1)\t0.489 (15-8)\t0.443 (1)\n",
      "num       \t0.783 (5-6)\t0.812 (16-0)\t0.773 (5-3)\t0.655 (15-8)\t0.463 (1)\n",
      "conj      \t0.333 (11-11)\t0.429 (14-9)\t0.611 (5-5)\t0.556 (11-5)\t0.272 (-2)\n",
      "cc        \t0.477 (6-5)\t0.563 (14-11)\t0.47  (8-6)\t0.422 (4-9)\t0.415 (-1)\n",
      "poss      \t0.669 (6-7)\t0.684 (14-6)\t0.569 (7-11)\t0.472 (5-2)\t0.367 (2)\n",
      "ccomp     \t0.382 (7-6)\t0.527 (8-15)\t0.486 (5-10)\t0.381 (6-9)\t0.132 (-3)\n",
      "xcomp     \t0.712 (5-2)\t0.685 (13-7)\t0.642 (2-7)\t0.673 (11-11)\t0.56  (-2)\n",
      "mark      \t0.522 (6-4)\t0.523 (15-13)\t0.495 (7-11)\t0.417 (18-15)\t0.211 (3)\n",
      "dep       \t0.202 (7-8)\t0.2   (16-10)\t0.184 (8-5)\t0.195 (4-1)\t0.146 (-2)\n",
      "vmod      \t0.391 (6-5)\t0.465 (14-11)\t0.366 (4-11)\t0.336 (3-14)\t0.335 (-1)\n",
      "cop       \t0.848 (6-4)\t0.815 (15-13)\t0.789 (2-0)\t0.761 (5-2)\t0.397 (1)\n",
      "possessive\t0.984 (3-11)\t0.984 (3-5)\t0.984 (0-11)\t0.984 (1-14)\t0.984 (-1)\n",
      "number    \t0.912 (6-10)\t0.91  (17-1)\t0.91  (1-3)\t0.91  (4-6)\t0.908 (1)\n",
      "rcmod     \t0.358 (8-6)\t0.378 (14-11)\t0.402 (4-11)\t0.354 (6-3)\t0.262 (-3)\n",
      "auxpass   \t0.962 (5-6)\t0.958 (11-2)\t0.931 (1-3)\t0.931 (4-6)\t0.857 (1)\n",
      "appos     \t0.251 (8-6)\t0.343 (16-2)\t0.366 (6-10)\t0.272 (9-0)\t0.28  (-2)\n",
      "nsubjpass \t0.583 (7-8)\t0.592 (16-13)\t0.542 (3-5)\t0.443 (12-0)\t0.39  (2)\n",
      "advcl     \t0.178 (11-3)\t0.233 (14-9)\t0.284 (11-9)\t0.252 (4-1)\t0.066 (-5)\n",
      "neg       \t0.704 (4-5)\t0.796 (15-13)\t0.763 (9-8)\t0.776 (4-6)\t0.692 (1)\n",
      "pcomp     \t0.796 (6-1)\t0.798 (14-2)\t0.788 (7-8)\t0.791 (3-14)\t0.788 (-1)\n",
      "npadvmod  \t0.534 (5-4)\t0.536 (15-11)\t0.565 (7-11)\t0.466 (4-5)\t0.298 (2)\n",
      "tmod      \t0.38  (8-6)\t0.484 (16-7)\t0.504 (4-11)\t0.409 (9-0)\t0.228 (-1)\n",
      "quantmod  \t0.732 (1-11)\t0.737 (14-7)\t0.741 (7-6)\t0.739 (4-6)\t0.733 (1)\n",
      "prt       \t0.983 (6-2)\t0.993 (10-14)\t0.981 (8-8)\t0.986 (3-0)\t0.876 (-1)\n",
      "parataxis \t0.169 (11-3)\t0.185 (14-9)\t0.235 (11-9)\t0.22  (3-9)\t0.057 (4)\n",
      "mwe       \t0.978 (0-3)\t0.828 (14-3)\t0.853 (0-5)\t0.882 (1-4)\t0.825 (1)\n",
      "acomp     \t0.867 (6-2)\t0.911 (14-2)\t0.879 (9-0)\t0.795 (5-10)\t0.684 (-1)\n",
      "expl      \t0.831 (6-9)\t0.831 (13-0)\t0.817 (0-9)\t0.829 (3-10)\t0.817 (1)\n",
      "iobj      \t0.856 (5-7)\t0.874 (15-8)\t0.743 (7-7)\t0.902 (8-6)\t0.516 (-1)\n",
      "predet    \t0.947 (6-4)\t0.936 (12-5)\t0.824 (2-0)\t0.791 (20-4)\t0.612 (2)\n",
      "csubj     \t0.37  (8-7)\t0.357 (16-5)\t0.425 (4-3)\t0.37  (13-2)\t0.137 (5)\n",
      "preconj   \t0.547 (4-5)\t0.574 (14-6)\t0.559 (6-4)\t0.648 (4-6)\t0.539 (1)\n",
      "discourse \t0.229 (4-9)\t0.357 (16-13)\t0.298 (9-0)\t0.241 (9-13)\t0.22  (-2)\n",
      "csubjpass \t0.462 (9-7)\t0.538 (11-0)\t0.462 (3-5)\t0.462 (5-8)\t0.462 (5) \n",
      "\n",
      "43 relations\n",
      "average score for BERT Base : 0.6240264556224395\n",
      "average score for BERT Large : 0.645850232959232\n",
      "average score for RoBERTa base : 0.6270940058138148\n",
      "average score for RoBERTa large : 0.5986689809552952\n",
      "average score for offset : 0.4790401279809726\n"
     ]
    }
   ],
   "source": [
    "relns = [r for r,c in get_relns_by_frequency(dataset)]\n",
    "relns.remove(\"root\")\n",
    "print_attn_baseline_table_NL(1, relns, [scores, bert_large_scores, roberta_base_scores, roberta_large_scores, reln_scores_topk_offset], \n",
    "                             [\"BERT Base\", \"BERT Large\", \"RoBERTa base\", \"RoBERTa large\", \"offset\"])"
   ]
  },
  {
   "cell_type": "code",
   "execution_count": 8,
   "metadata": {},
   "outputs": [
    {
     "name": "stdout",
     "output_type": "stream",
     "text": [
      "relationship\t\t  accuracy\tlayer\thead\n",
      "punct                         0.253\t6\t4\n",
      "prep                          0.712\t6\t2\n",
      "pobj                          0.681\t8\t0\n",
      "nn                            0.75 \t5\t4\n",
      "det                           0.938\t6\t4\n",
      "nsubj                         0.574\t8\t9\n",
      "amod                          0.755\t5\t4\n",
      "dobj                          0.827\t5\t7\n",
      "aux                           0.808\t6\t8\n",
      "advmod                        0.602\t5\t6\n",
      "num                           0.783\t5\t6\n",
      "conj                          0.333\t11\t11\n",
      "cc                            0.477\t6\t5\n",
      "poss                          0.669\t6\t7\n",
      "ccomp                         0.382\t7\t6\n",
      "xcomp                         0.712\t5\t2\n",
      "mark                          0.522\t6\t4\n",
      "dep                           0.202\t7\t8\n",
      "vmod                          0.391\t6\t5\n",
      "cop                           0.848\t6\t4\n",
      "possessive                    0.984\t3\t11\n",
      "number                        0.912\t6\t10\n",
      "rcmod                         0.358\t8\t6\n",
      "auxpass                       0.962\t5\t6\n",
      "appos                         0.251\t8\t6\n",
      "nsubjpass                     0.583\t7\t8\n",
      "advcl                         0.178\t11\t3\n",
      "neg                           0.704\t4\t5\n",
      "pcomp                         0.796\t6\t1\n",
      "npadvmod                      0.534\t5\t4\n",
      "tmod                          0.38 \t8\t6\n",
      "quantmod                      0.732\t1\t11\n",
      "prt                           0.983\t6\t2\n",
      "parataxis                     0.169\t11\t3\n",
      "mwe                           0.978\t0\t3\n",
      "acomp                         0.867\t6\t2\n",
      "expl                          0.831\t6\t9\n",
      "iobj                          0.856\t5\t7\n",
      "predet                        0.947\t6\t4\n",
      "csubj                         0.37 \t8\t7\n",
      "preconj                       0.547\t4\t5\n",
      "discourse                     0.229\t4\t9\n",
      "csubjpass                     0.462\t9\t7\n",
      "\n",
      "average of 43 relations: 0.6240264556224395\n"
     ]
    }
   ],
   "source": [
    "print_attn_table_NL(1, relns, scores)"
   ]
  },
  {
   "cell_type": "markdown",
   "metadata": {},
   "source": [
    "# German Results"
   ]
  },
  {
   "cell_type": "code",
   "execution_count": 10,
   "metadata": {},
   "outputs": [
    {
     "name": "stdout",
     "output_type": "stream",
     "text": [
      "['acl', 'advcl', 'advmod', 'amod', 'appos', 'aux', 'aux:pass', 'case', 'cc', 'ccomp', 'compound:prt', 'conj', 'cop', 'csubj', 'csubj:pass', 'det', 'det:poss', 'discourse', 'expl', 'expl:pv', 'flat', 'flat:name', 'iobj', 'mark', 'nmod', 'nmod:poss', 'nsubj', 'nsubj:pass', 'nummod', 'obj', 'obl', 'parataxis', 'punct', 'reparandum', 'xcomp']\n",
      "bert 62.6 81.9 96.5 99.6\n",
      "xlmr_base 67.4 85.5 97.1 99.7\n",
      "xlmr_large 60.4 82.2 96.8 99.6\n",
      "offset 36.3 58.0 83.1 95.1\n"
     ]
    },
    {
     "data": {
      "image/png": "[encoded data removed]",
      "text/plain": [
       "<Figure size 432x288 with 1 Axes>"
      ]
     },
     "metadata": {
      "needs_background": "light"
     },
     "output_type": "display_data"
    }
   ],
   "source": [
    "with open(\"data/depparse_german/dev.json\", \"r\") as f:\n",
    "    dataset = json.load(f)\n",
    "relns = get_relns_NL(dataset)\n",
    "print(relns)\n",
    "\n",
    "with open(\"data/depparse_german/german_bert_topk_scores.pkl\", \"rb\") as f:\n",
    "    scores = pickle.load(f)\n",
    "reln_avg = get_avg_NL(scores, relns, max_k=20)\n",
    "\n",
    "with open(\"data/depparse_german/german_xlmr_base_topk_scores.pkl\", \"rb\") as f:\n",
    "    xlmr_base_scores = pickle.load(f)\n",
    "xlmr_base_reln_avg = get_avg_NL(xlmr_base_scores, relns, max_k=20)\n",
    "\n",
    "with open(\"data/depparse_german/german_xlmr_large_topk_scores.pkl\", \"rb\") as f:\n",
    "    xlmr_large_scores = pickle.load(f)\n",
    "xlmr_large_reln_avg = get_avg_NL(xlmr_large_scores, relns, max_k=20)\n",
    "\n",
    "with open(\"data/depparse_german/german_topk_scores_offset.pkl\", \"rb\") as f:\n",
    "    reln_scores_topk_offset = pickle.load(f)\n",
    "scores_topk_offset = get_scores_topk(reln_scores_topk_offset, max_k=20)\n",
    "\n",
    "\n",
    "print(\"bert\", round(reln_avg[1]*100, 1), round(reln_avg[3]*100, 1), round(reln_avg[10]*100, 1), round(reln_avg[20]*100, 1))\n",
    "print(\"xlmr_base\", round(xlmr_base_reln_avg[1]*100, 1), round(xlmr_base_reln_avg[3]*100, 1), \n",
    "      round(xlmr_base_reln_avg[10]*100, 1), round(xlmr_base_reln_avg[20]*100, 1))\n",
    "print(\"xlmr_large\", round(xlmr_large_reln_avg[1]*100, 1), round(xlmr_large_reln_avg[3]*100, 1), \n",
    "      round(xlmr_large_reln_avg[10]*100, 1), round(xlmr_large_reln_avg[20]*100, 1))\n",
    "print(\"offset\", round(scores_topk_offset[1]*100, 1), round(scores_topk_offset[3]*100, 1), \n",
    "                                                   round(scores_topk_offset[10]*100, 1), round(scores_topk_offset[20]*100, 1))\n",
    "\n",
    "plt.rcParams[\"figure.figsize\"] = (8,5)\n",
    "x = [k for k in range(1, 21)]\n",
    "plt.plot(x, reln_avg[1:21], label = \"Multilingual BERT\")  # attention score\n",
    "plt.plot(x, xlmr_base_reln_avg[1:21], label = \"XLM-RoBERTa-base\")  # attention score\n",
    "plt.plot(x, xlmr_large_reln_avg[1:21], label = \"XLM-RoBERTa-large\")  # attention score\n",
    "plt.plot(x, scores_topk_offset[1:21] ,  label = \"Offset\")\n",
    "\n",
    "plt.xticks(range(1,22, 2))\n",
    "plt.xlabel(\"k\")\n",
    "plt.ylabel(\"Average Score\")\n",
    "# plt.title(\"NL German\")\n",
    "plt.legend(framealpha=1, frameon=True, loc='lower right');\n",
    "plt.ylim([0.3, 1.05])\n",
    "fig = plt.gcf()\n",
    "fig.set_size_inches(6., 4)\n",
    "fig.savefig(\"../../data/figures/German.pdf\", bbox_inches='tight')\n",
    "plt.show()\n",
    "\n",
    "# keywords only: 52 keywords\n",
    "# offset only: 512 offsets\n",
    "# keywords+offset: max of two\n"
   ]
  },
  {
   "cell_type": "code",
   "execution_count": 11,
   "metadata": {},
   "outputs": [
    {
     "name": "stdout",
     "output_type": "stream",
     "text": [
      "relation\tMulti BERT\tXLMR base\tXLMR large\toffset\n",
      "det       \t0.936 (5-8)\t0.924 (5-1)\t0.802 (10-15)\t0.728 (1)\n",
      "punct     \t0.227 (8-6)\t0.242 (8-10)\t0.191 (1-9)\t0.188 (-1)\n",
      "case      \t0.82  (5-8)\t0.805 (3-9)\t0.704 (10-15)\t0.461 (1)\n",
      "advmod    \t0.476 (6-8)\t0.496 (5-1)\t0.44  (18-14)\t0.351 (1)\n",
      "obl       \t0.333 (3-4)\t0.366 (8-2)\t0.243 (1-7)\t0.241 (1)\n",
      "nsubj     \t0.379 (3-4)\t0.564 (8-4)\t0.458 (16-1)\t0.182 (1)\n",
      "nmod      \t0.494 (2-5)\t0.534 (8-2)\t0.431 (1-3)\t0.508 (-2)\n",
      "amod      \t0.882 (2-11)\t0.952 (7-7)\t0.933 (1-7)\t0.933 (1)\n",
      "obj       \t0.523 (7-3)\t0.658 (6-6)\t0.583 (19-13)\t0.184 (1)\n",
      "conj      \t0.578 (8-5)\t0.634 (5-4)\t0.58  (17-6)\t0.309 (-2)\n",
      "aux       \t0.833 (5-8)\t0.8   (5-1)\t0.809 (18-14)\t0.212 (-1)\n",
      "cc        \t0.698 (6-3)\t0.742 (5-1)\t0.669 (18-14)\t0.515 (1)\n",
      "flat:name \t0.785 (2-7)\t0.829 (6-9)\t0.785 (1-9)\t0.785 (-1)\n",
      "nummod    \t0.965 (5-8)\t0.954 (7-7)\t0.949 (1-7)\t0.949 (1)\n",
      "mark      \t0.637 (5-8)\t0.56  (5-1)\t0.541 (11-10)\t0.342 (1)\n",
      "appos     \t0.499 (5-4)\t0.553 (6-9)\t0.391 (18-6)\t0.376 (-1)\n",
      "flat      \t0.751 (5-4)\t0.721 (9-7)\t0.669 (18-7)\t0.663 (-1)\n",
      "aux:pass  \t0.962 (5-8)\t0.977 (5-1)\t0.954 (10-13)\t0.499 (-1)\n",
      "acl       \t0.314 (8-2)\t0.416 (7-0)\t0.403 (18-5)\t0.103 (-10)\n",
      "nsubj:pass\t0.433 (3-4)\t0.638 (9-1)\t0.544 (19-13)\t0.123 (1)\n",
      "cop       \t0.759 (6-8)\t0.75  (5-1)\t0.653 (10-13)\t0.294 (-1)\n",
      "xcomp     \t0.38  (3-4)\t0.622 (6-6)\t0.529 (19-13)\t0.16  (1)\n",
      "compound:prt\t0.948 (4-8)\t0.966 (7-2)\t0.991 (10-9)\t0.104 (-4)\n",
      "advcl     \t0.278 (4-1)\t0.259 (11-1)\t0.202 (23-3)\t0.058 (-2)\n",
      "ccomp     \t0.296 (4-1)\t0.354 (8-6)\t0.198 (2-14)\t0.076 (-11)\n",
      "parataxis \t0.191 (4-5)\t0.194 (5-4)\t0.175 (2-14)\t0.146 (-3)\n",
      "expl:pv   \t0.904 (5-8)\t0.966 (7-11)\t0.972 (10-13)\t0.363 (-1)\n",
      "iobj      \t0.357 (3-4)\t0.553 (6-0)\t0.479 (16-4)\t0.134 (-1)\n",
      "csubj     \t0.187 (3-4)\t0.263 (8-6)\t0.204 (10-10)\t0.067 (2)\n",
      "expl      \t0.768 (6-8)\t0.804 (5-8)\t0.846 (10-13)\t0.196 (-1)\n",
      "csubj:pass\t0.312 (3-4)\t0.509 (5-10)\t0.321 (10-10)\t0.143 (-10)\n",
      "reparandum\t1.0   (1-2)\t1.0   (1-8)\t1.0   (1-7)\t1.0   (1)\n",
      "det:poss  \t1.0   (1-9)\t1.0   (3-9)\t1.0   (7-4)\t0.5   (1)\n",
      "nmod:poss \t1.0   (5-6)\t1.0   (4-0)\t0.5   (0-0)\t0.5   (-2)\n",
      "discourse \t1.0   (1-2)\t1.0   (5-1)\t1.0   (2-0)\t0.5   (-1) \n",
      "\n",
      "35 relations\n",
      "average score for Multi BERT : 0.6258681475165148\n",
      "average score for XLMR base : 0.6744971948631224\n",
      "average score for XLMR large : 0.604302294320684\n",
      "average score for offset : 0.3683939767061661\n"
     ]
    }
   ],
   "source": [
    "relns = [r for r,c in get_relns_by_frequency(dataset)]\n",
    "relns.remove(\"root\")\n",
    "print_attn_baseline_table_NL(1, relns, [scores, xlmr_base_scores, xlmr_large_scores, reln_scores_topk_offset], \n",
    "[\"Multi BERT\", \"XLMR base\", \"XLMR large\",\"offset\"])"
   ]
  },
  {
   "cell_type": "markdown",
   "metadata": {},
   "source": [
    "# dataset Statistics"
   ]
  },
  {
   "cell_type": "code",
   "execution_count": 12,
   "metadata": {},
   "outputs": [],
   "source": [
    "# offset distribution plot\n",
    "\n",
    "with open(\"data/depparse_english/dev.json\", \"r\") as f:\n",
    "    dataset = json.load(f)\n",
    "with open(\"data/depparse_german/dev.json\", \"r\") as f:\n",
    "    dataset_german = json.load(f)\n",
    "\n",
    "\n",
    "reln_to_offset = [{}, {}]\n",
    "for i, d in [(0, dataset), (1, dataset_german)]:\n",
    "    relns = get_relns_NL(d)\n",
    "    for reln in relns:\n",
    "        reln_to_offset[i][reln] = []\n",
    "    reln_to_offset[i][\"avg\"] = []\n",
    "    for example in d:\n",
    "        for idx, (head, reln) in enumerate(zip(example[\"heads\"], example[\"relns\"])):\n",
    "            if reln != \"root\":\n",
    "                reln_to_offset[i][reln].append(head-(idx+1))\n",
    "    for reln in relns:\n",
    "        reln_to_offset[i][\"avg\"].append(sum(reln_to_offset[i][reln])/len(reln_to_offset[i][reln]))\n",
    "#         reln_to_offset[i][\"avg\"].append((reln,sum(reln_to_offset[i][reln])/len(reln_to_offset[i][reln])))\n",
    "#     reln_to_offset[i][\"avg\"].sort(key=lambda x:x[1])\n",
    "#     print(reln_to_offset[i][\"avg\"])"
   ]
  },
  {
   "cell_type": "code",
   "execution_count": 13,
   "metadata": {},
   "outputs": [
    {
     "data": {
      "image/png": "[encoded data removed]",
      "text/plain": [
       "<Figure size 432x288 with 1 Axes>"
      ]
     },
     "metadata": {
      "needs_background": "light"
     },
     "output_type": "display_data"
    }
   ],
   "source": [
    "import seaborn as sns\n",
    "\n",
    "fig, ax = plt.subplots(figsize=(8,5))\n",
    "sns.histplot(reln_to_offset[0][\"avg\"], binwidth=1, color=\"dodgerblue\", label=\"English\", alpha=0.5)\n",
    "sns.histplot(reln_to_offset[1][\"avg\"], binwidth=1, color=\"red\", label=\"German\", alpha=0.5)\n",
    "plt.xlabel(\"offset\")\n",
    "plt.legend()\n",
    "fig.set_size_inches(6., 4)\n",
    "plt.xticks(list(range(-10, 12, 2)))\n",
    "fig.savefig(\"../../data/figures/offset_distribution_NL.pdf\", bbox_inches='tight')\n",
    "plt.show()"
   ]
  },
  {
   "cell_type": "code",
   "execution_count": 14,
   "metadata": {},
   "outputs": [
    {
     "name": "stdout",
     "output_type": "stream",
     "text": [
      "English sentences 48883\n",
      "relation types 43\n",
      "relation edges 1147526\n"
     ]
    }
   ],
   "source": [
    "# dataset statistics\n",
    "sentences = len(dataset) - [len(d['words']) for d in dataset].count(0)\n",
    "print(\"English sentences\", sentences)\n",
    "print(\"relation types\", len(get_relns_NL(dataset)))\n",
    "print(\"relation edges\", sum([len(d['relns']) for d in dataset]) - sentences)"
   ]
  },
  {
   "cell_type": "code",
   "execution_count": 15,
   "metadata": {},
   "outputs": [
    {
     "name": "stdout",
     "output_type": "stream",
     "text": [
      "_german sentences 18459\n",
      "relation types 35\n",
      "relation edges 307791\n"
     ]
    }
   ],
   "source": [
    "# dataset statistics\n",
    "sentences = len(dataset_german) - [len(d['words']) for d in dataset_german].count(0)\n",
    "print(\"_german sentences\", sentences)\n",
    "print(\"relation types\", len(get_relns_NL(dataset_german)))\n",
    "print(\"relation edges\", sum([len(d['relns']) for d in dataset_german]) - sentences)"
   ]
  },
  {
   "cell_type": "code",
   "execution_count": 16,
   "metadata": {},
   "outputs": [
    {
     "data": {
      "text/plain": [
       "{'words': ['There', 'were', 'many', 'pioneer', 'PC', 'contributors', '.'],\n",
       " 'relns': ['expl', 'root', 'amod', 'nn', 'nn', 'nsubj', 'punct'],\n",
       " 'heads': [2, 0, 6, 6, 6, 2, 2]}"
      ]
     },
     "execution_count": 16,
     "metadata": {},
     "output_type": "execute_result"
    }
   ],
   "source": [
    "dataset[315]"
   ]
  },
  {
   "cell_type": "code",
   "execution_count": null,
   "metadata": {},
   "outputs": [],
   "source": []
  }
 ],
 "metadata": {
  "kernelspec": {
   "display_name": "Python 3.9.7 ('base')",
   "language": "python",
   "name": "python3"
  },
  "language_info": {
   "codemirror_mode": {
    "name": "ipython",
    "version": 3
   },
   "file_extension": ".py",
   "mimetype": "text/x-python",
   "name": "python",
   "nbconvert_exporter": "python",
   "pygments_lexer": "ipython3",
   "version": "3.9.7"
  },
  "vscode": {
   "interpreter": {
    "hash": "88279d2366fe020547cde40dd65aa0e3aa662a6ec1f3ca12d88834876c85e1a6"
   }
  }
 },
 "nbformat": 4,
 "nbformat_minor": 2
}
