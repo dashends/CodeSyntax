{
 "cells": [
  {
   "cell_type": "code",
   "execution_count": 6,
   "metadata": {},
   "outputs": [],
   "source": [
    "import json\n",
    "import pandas as pd\n",
    "from pathlib import Path\n",
    "pd.set_option('max_colwidth',300)\n",
    "import seaborn as sns\n",
    "from matplotlib import pyplot as plt"
   ]
  },
  {
   "cell_type": "markdown",
   "metadata": {},
   "source": [
    "# Get Source Code from Code Search Net\n",
    "\n",
    "This notebook originally comes from code search net https://github.com/github/CodeSearchNet"
   ]
  },
  {
   "cell_type": "code",
   "execution_count": 2,
   "metadata": {},
   "outputs": [
    {
     "name": "stdout",
     "output_type": "stream",
     "text": [
      "--2019-06-14 01:05:08--  https://s3.amazonaws.com/code-search-net/CodeSearchNet/v2/python.zip\n",
      "Resolving s3.amazonaws.com (s3.amazonaws.com)... 52.216.184.77\n",
      "Connecting to s3.amazonaws.com (s3.amazonaws.com)|52.216.184.77|:443... connected.\n",
      "HTTP request sent, awaiting response... 200 OK\n",
      "Length: 218813834 (209M) [application/zip]\n",
      "Saving to: ‘python.zip’\n",
      "\n",
      "python.zip          100%[===================>] 208.68M  63.9MB/s    in 3.3s    \n",
      "\n",
      "2019-06-14 01:05:11 (63.9 MB/s) - ‘python.zip’ saved [218813834/218813834]\n",
      "\n"
     ]
    }
   ],
   "source": [
    "!wget https://s3.amazonaws.com/code-search-net/CodeSearchNet/v2/python.zip\n",
    "!wget https://s3.amazonaws.com/code-search-net/CodeSearchNet/v2/java.zip"
   ]
  },
  {
   "cell_type": "code",
   "execution_count": 3,
   "metadata": {},
   "outputs": [
    {
     "name": "stdout",
     "output_type": "stream",
     "text": [
      "Archive:  python.zip\n",
      "   creating: python/\n",
      "   creating: python/final/\n",
      "   creating: python/final/jsonl/\n",
      "   creating: python/final/jsonl/valid/\n",
      "  inflating: python/final/jsonl/valid/python_valid_0.jsonl.gz  \n",
      "   creating: python/final/jsonl/test/\n",
      "  inflating: python/final/jsonl/test/python_test_0.jsonl.gz  \n",
      "   creating: python/final/jsonl/train/\n",
      "  inflating: python/final/jsonl/train/python_train_7.jsonl.gz  \n",
      "  inflating: python/final/jsonl/train/python_train_6.jsonl.gz  \n",
      "  inflating: python/final/jsonl/train/python_train_12.jsonl.gz  \n",
      "  inflating: python/final/jsonl/train/python_train_13.jsonl.gz  \n",
      "  inflating: python/final/jsonl/train/python_train_0.jsonl.gz  \n",
      "  inflating: python/final/jsonl/train/python_train_1.jsonl.gz  \n",
      "  inflating: python/final/jsonl/train/python_train_4.jsonl.gz  \n",
      "  inflating: python/final/jsonl/train/python_train_5.jsonl.gz  \n",
      "  inflating: python/final/jsonl/train/python_train_9.jsonl.gz  \n",
      "  inflating: python/final/jsonl/train/python_train_8.jsonl.gz  \n",
      "  inflating: python/final/jsonl/train/python_train_11.jsonl.gz  \n",
      "  inflating: python/final/jsonl/train/python_train_10.jsonl.gz  \n",
      "  inflating: python/final/jsonl/train/python_train_3.jsonl.gz  \n",
      "  inflating: python/final/jsonl/train/python_train_2.jsonl.gz  \n"
     ]
    }
   ],
   "source": [
    "!unzip python.zip\n",
    "!unzip java.zip"
   ]
  },
  {
   "cell_type": "code",
   "execution_count": null,
   "metadata": {},
   "outputs": [],
   "source": [
    "# decompress gzip file\n",
    "!gzip -d python/final/jsonl/test/python_test_0.jsonl.gz\n",
    "!gzip -d python/final/jsonl/test/python_valid_0.jsonl.gz\n",
    "!gzip -d java/final/jsonl/test/java_test_0.jsonl.gz\n",
    "!gzip -d java/final/jsonl/valid/java_valid_0.jsonl.gz"
   ]
  },
  {
   "cell_type": "markdown",
   "metadata": {},
   "source": [
    "To make analysis of this dataset easier, we can load all of the data into a pandas dataframe: "
   ]
  },
  {
   "cell_type": "code",
   "execution_count": 3,
   "metadata": {},
   "outputs": [],
   "source": [
    "columns_long_list = ['repo', 'path', 'url', 'code', \n",
    "                     'code_tokens', 'docstring', 'docstring_tokens', \n",
    "                     'language', 'partition']\n",
    "\n",
    "columns_short_list = ['code_tokens', 'docstring_tokens', \n",
    "                      'language', 'partition']\n",
    "\n",
    "def jsonl_list_to_dataframe(file_list, columns=columns_long_list):\n",
    "    \"\"\"Load a list of jsonl.gz files into a pandas DataFrame.\"\"\"\n",
    "    return pd.concat([pd.read_json(f, \n",
    "                                   orient='records', \n",
    "                                   compression='gzip',\n",
    "                                   lines=True)[columns] \n",
    "                      for f in file_list], sort=False)"
   ]
  },
  {
   "cell_type": "markdown",
   "metadata": {},
   "source": [
    "## Load python and java dataset"
   ]
  },
  {
   "cell_type": "code",
   "execution_count": 3,
   "metadata": {},
   "outputs": [],
   "source": [
    "python_files =['python/final/jsonl/test/python_test_0.jsonl.gz', 'python/final/jsonl/valid/python_valid_0.jsonl.gz']\n",
    "pydf = jsonl_list_to_dataframe(python_files)"
   ]
  },
  {
   "cell_type": "code",
   "execution_count": 4,
   "metadata": {},
   "outputs": [],
   "source": [
    "java_files =['java/final/jsonl/test/java_test_0.jsonl.gz', 'java/final/jsonl/valid/java_valid_0.jsonl.gz']\n",
    "javadf = jsonl_list_to_dataframe(java_files)"
   ]
  },
  {
   "cell_type": "code",
   "execution_count": null,
   "metadata": {},
   "outputs": [],
   "source": []
  },
  {
   "cell_type": "markdown",
   "metadata": {},
   "source": [
    "## Deduplicate (remove the code samples used in CuBERT and CodeBERT pre-training). "
   ]
  },
  {
   "cell_type": "code",
   "execution_count": 4,
   "metadata": {},
   "outputs": [
    {
     "data": {
      "text/plain": [
       "[WindowsPath('../../PLasNL/data/Cubert Python/20200621_Python_github_python_minus_ethpy150open_deduplicated_manifest_manifest.jsontxt-00000-of-00041'),\n",
       " WindowsPath('../../PLasNL/data/Cubert Python/20200621_Python_github_python_minus_ethpy150open_deduplicated_manifest_manifest.jsontxt-00001-of-00041'),\n",
       " WindowsPath('../../PLasNL/data/Cubert Python/20200621_Python_github_python_minus_ethpy150open_deduplicated_manifest_manifest.jsontxt-00002-of-00041')]"
      ]
     },
     "execution_count": 4,
     "metadata": {},
     "output_type": "execute_result"
    }
   ],
   "source": [
    "cubert_files_py  = sorted(Path('Cubert Python/').glob('*'))\n",
    "cubert_files_py[:3]"
   ]
  },
  {
   "cell_type": "code",
   "execution_count": 5,
   "metadata": {},
   "outputs": [
    {
     "data": {
      "text/plain": [
       "[WindowsPath('../../PLasNL/data/Cubert Java/manifest.jsontxt-00000-of-00056'),\n",
       " WindowsPath('../../PLasNL/data/Cubert Java/manifest.jsontxt-00001-of-00056'),\n",
       " WindowsPath('../../PLasNL/data/Cubert Java/manifest.jsontxt-00002-of-00056')]"
      ]
     },
     "execution_count": 5,
     "metadata": {},
     "output_type": "execute_result"
    }
   ],
   "source": [
    "cubert_files_java  = sorted(Path('Cubert Java/').glob('*'))\n",
    "cubert_files_java[:3]"
   ]
  },
  {
   "cell_type": "code",
   "execution_count": 5,
   "metadata": {},
   "outputs": [],
   "source": [
    "cubertdf_py = pd.concat([pd.read_json(f, \n",
    "                                   orient='records', \n",
    "                                   lines=True)[[\"repository\",\"filepath\",\"license\",\"id\",\"url\"]] \n",
    "                      for f in cubert_files_py], sort=False)"
   ]
  },
  {
   "cell_type": "code",
   "execution_count": 6,
   "metadata": {},
   "outputs": [],
   "source": [
    "cubertdf_java = pd.concat([pd.read_json(f, \n",
    "                                   orient='records', \n",
    "                                   lines=True)[[\"repository\",\"filepath\",\"license\",\"id\",\"url\"]] \n",
    "                      for f in cubert_files_java], sort=False)"
   ]
  },
  {
   "cell_type": "code",
   "execution_count": 6,
   "metadata": {},
   "outputs": [
    {
     "name": "stdout",
     "output_type": "stream",
     "text": [
      "7447860\n"
     ]
    },
    {
     "data": {
      "text/html": [
       "<div>\n",
       "<style scoped>\n",
       "    .dataframe tbody tr th:only-of-type {\n",
       "        vertical-align: middle;\n",
       "    }\n",
       "\n",
       "    .dataframe tbody tr th {\n",
       "        vertical-align: top;\n",
       "    }\n",
       "\n",
       "    .dataframe thead th {\n",
       "        text-align: right;\n",
       "    }\n",
       "</style>\n",
       "<table border=\"1\" class=\"dataframe\">\n",
       "  <thead>\n",
       "    <tr style=\"text-align: right;\">\n",
       "      <th></th>\n",
       "      <th>repository</th>\n",
       "      <th>filepath</th>\n",
       "      <th>license</th>\n",
       "      <th>id</th>\n",
       "      <th>url</th>\n",
       "    </tr>\n",
       "  </thead>\n",
       "  <tbody>\n",
       "    <tr>\n",
       "      <th>0</th>\n",
       "      <td>bndl/elastic</td>\n",
       "      <td>bndl_elastic/tests/test_index.py</td>\n",
       "      <td>apache-2.0</td>\n",
       "      <td>cad86d9a5a1f1ae2822bc8eddec530e258eb05a2</td>\n",
       "      <td>https://api.github.com/repos/bndl/elastic/git/blobs/cad86d9a5a1f1ae2822bc8eddec530e258eb05a2</td>\n",
       "    </tr>\n",
       "    <tr>\n",
       "      <th>1</th>\n",
       "      <td>luosch/leetcode</td>\n",
       "      <td>python/Basic Calculator II.py</td>\n",
       "      <td>mit</td>\n",
       "      <td>3a3c7d7cef99ca7b00e5c41f506edb7d8de78c54</td>\n",
       "      <td>https://api.github.com/repos/luosch/leetcode/git/blobs/3a3c7d7cef99ca7b00e5c41f506edb7d8de78c54</td>\n",
       "    </tr>\n",
       "    <tr>\n",
       "      <th>2</th>\n",
       "      <td>Tony-Tsoi/proj-euler-ans</td>\n",
       "      <td>problems/prob014.py</td>\n",
       "      <td>mit</td>\n",
       "      <td>261310b3f77ef7396fd622c3d40b935b72ab5e6f</td>\n",
       "      <td>https://api.github.com/repos/Tony-Tsoi/proj-euler-ans/git/blobs/261310b3f77ef7396fd622c3d40b935b72ab5e6f</td>\n",
       "    </tr>\n",
       "  </tbody>\n",
       "</table>\n",
       "</div>"
      ],
      "text/plain": [
       "                 repository                          filepath     license  \\\n",
       "0              bndl/elastic  bndl_elastic/tests/test_index.py  apache-2.0   \n",
       "1           luosch/leetcode     python/Basic Calculator II.py         mit   \n",
       "2  Tony-Tsoi/proj-euler-ans               problems/prob014.py         mit   \n",
       "\n",
       "                                         id  \\\n",
       "0  cad86d9a5a1f1ae2822bc8eddec530e258eb05a2   \n",
       "1  3a3c7d7cef99ca7b00e5c41f506edb7d8de78c54   \n",
       "2  261310b3f77ef7396fd622c3d40b935b72ab5e6f   \n",
       "\n",
       "                                                                                                        url  \n",
       "0              https://api.github.com/repos/bndl/elastic/git/blobs/cad86d9a5a1f1ae2822bc8eddec530e258eb05a2  \n",
       "1           https://api.github.com/repos/luosch/leetcode/git/blobs/3a3c7d7cef99ca7b00e5c41f506edb7d8de78c54  \n",
       "2  https://api.github.com/repos/Tony-Tsoi/proj-euler-ans/git/blobs/261310b3f77ef7396fd622c3d40b935b72ab5e6f  "
      ]
     },
     "execution_count": 6,
     "metadata": {},
     "output_type": "execute_result"
    }
   ],
   "source": [
    "print(cubertdf_py[\"repository\"].count())\n",
    "cubertdf_py.head(3)"
   ]
  },
  {
   "cell_type": "code",
   "execution_count": 7,
   "metadata": {},
   "outputs": [
    {
     "name": "stdout",
     "output_type": "stream",
     "text": [
      "15866056\n"
     ]
    },
    {
     "data": {
      "text/html": [
       "<div>\n",
       "<style scoped>\n",
       "    .dataframe tbody tr th:only-of-type {\n",
       "        vertical-align: middle;\n",
       "    }\n",
       "\n",
       "    .dataframe tbody tr th {\n",
       "        vertical-align: top;\n",
       "    }\n",
       "\n",
       "    .dataframe thead th {\n",
       "        text-align: right;\n",
       "    }\n",
       "</style>\n",
       "<table border=\"1\" class=\"dataframe\">\n",
       "  <thead>\n",
       "    <tr style=\"text-align: right;\">\n",
       "      <th></th>\n",
       "      <th>repository</th>\n",
       "      <th>filepath</th>\n",
       "      <th>license</th>\n",
       "      <th>id</th>\n",
       "      <th>url</th>\n",
       "    </tr>\n",
       "  </thead>\n",
       "  <tbody>\n",
       "    <tr>\n",
       "      <th>0</th>\n",
       "      <td>telestack/Floodlight</td>\n",
       "      <td>src/main/java/net/floodlightcontroller/forwarding/ForwardingPR.java</td>\n",
       "      <td>apache-2.0</td>\n",
       "      <td>5ceb3e290177bf161b2e2995c83c31ac4958888d</td>\n",
       "      <td>https://api.github.com/repos/telestack/Floodlight/git/blobs/5ceb3e290177bf161b2e2995c83c31ac4958888d</td>\n",
       "    </tr>\n",
       "    <tr>\n",
       "      <th>1</th>\n",
       "      <td>kd0kfo/webfs</td>\n",
       "      <td>java/core/src/main/java/com/davecoss/uploader/auth/AuthHash.java</td>\n",
       "      <td>gpl-3.0</td>\n",
       "      <td>6ee82be1882f45b7c79a889d04a5406fc7f64ce3</td>\n",
       "      <td>https://api.github.com/repos/kd0kfo/webfs/git/blobs/6ee82be1882f45b7c79a889d04a5406fc7f64ce3</td>\n",
       "    </tr>\n",
       "    <tr>\n",
       "      <th>2</th>\n",
       "      <td>Lecrayen/PlatinumMMO</td>\n",
       "      <td>com/gmail/Lecrayen/Platinum/MMO/Commands/Portal/PortalList.java</td>\n",
       "      <td>mit</td>\n",
       "      <td>353fdbce6bff7dc8256c50375cae609b5e5c5f62</td>\n",
       "      <td>https://api.github.com/repos/Lecrayen/PlatinumMMO/git/blobs/353fdbce6bff7dc8256c50375cae609b5e5c5f62</td>\n",
       "    </tr>\n",
       "  </tbody>\n",
       "</table>\n",
       "</div>"
      ],
      "text/plain": [
       "             repository  \\\n",
       "0  telestack/Floodlight   \n",
       "1          kd0kfo/webfs   \n",
       "2  Lecrayen/PlatinumMMO   \n",
       "\n",
       "                                                              filepath  \\\n",
       "0  src/main/java/net/floodlightcontroller/forwarding/ForwardingPR.java   \n",
       "1     java/core/src/main/java/com/davecoss/uploader/auth/AuthHash.java   \n",
       "2      com/gmail/Lecrayen/Platinum/MMO/Commands/Portal/PortalList.java   \n",
       "\n",
       "      license                                        id  \\\n",
       "0  apache-2.0  5ceb3e290177bf161b2e2995c83c31ac4958888d   \n",
       "1     gpl-3.0  6ee82be1882f45b7c79a889d04a5406fc7f64ce3   \n",
       "2         mit  353fdbce6bff7dc8256c50375cae609b5e5c5f62   \n",
       "\n",
       "                                                                                                    url  \n",
       "0  https://api.github.com/repos/telestack/Floodlight/git/blobs/5ceb3e290177bf161b2e2995c83c31ac4958888d  \n",
       "1          https://api.github.com/repos/kd0kfo/webfs/git/blobs/6ee82be1882f45b7c79a889d04a5406fc7f64ce3  \n",
       "2  https://api.github.com/repos/Lecrayen/PlatinumMMO/git/blobs/353fdbce6bff7dc8256c50375cae609b5e5c5f62  "
      ]
     },
     "execution_count": 7,
     "metadata": {},
     "output_type": "execute_result"
    }
   ],
   "source": [
    "print(cubertdf_java[\"repository\"].count())\n",
    "cubertdf_java.head(3)"
   ]
  },
  {
   "cell_type": "code",
   "execution_count": 9,
   "metadata": {},
   "outputs": [],
   "source": [
    "deduplicated_py=pydf[~pydf[\"repo\"].isin(cubertdf_py[\"repository\"])]"
   ]
  },
  {
   "cell_type": "code",
   "execution_count": 8,
   "metadata": {},
   "outputs": [],
   "source": [
    "deduplicated_java=javadf[~javadf[\"repo\"].isin(cubertdf_java[\"repository\"])]"
   ]
  },
  {
   "cell_type": "markdown",
   "metadata": {},
   "source": [
    "# convert dataframe to lists and save to file"
   ]
  },
  {
   "cell_type": "code",
   "execution_count": 33,
   "metadata": {},
   "outputs": [],
   "source": [
    "data_full = []\n",
    "for index, row in deduplicated_py.iterrows():\n",
    "    data_full.append({\"code\": row['code'], 'repo': row['repo'], 'path': row['path'], 'url': row['url'], 'docstring': row['docstring']})\n",
    "data_code_only = [c  for c in deduplicated_py[\"code\"].tolist()]\n",
    "\n",
    "with open('deduplicated_python_full.pickle', 'wb') as f:\n",
    "    pickle.dump(data_full, f)\n",
    "\n",
    "with open('deduplicated_python_code.pickle', 'wb') as f:\n",
    "    pickle.dump(data_code_only, f)"
   ]
  },
  {
   "cell_type": "code",
   "execution_count": 11,
   "metadata": {},
   "outputs": [],
   "source": [
    "data_full = []\n",
    "for index, row in deduplicated_java.iterrows():\n",
    "    data_full.append({\"code\": row['code'], 'repo': row['repo'], 'path': row['path'], 'url': row['url'], 'docstring': row['docstring']})\n",
    "data_code_only = [c  for c in deduplicated_java[\"code\"].tolist()]\n",
    "\n",
    "with open('deduplicated_java_full.pickle', 'wb') as f:\n",
    "    pickle.dump(data_full, f)\n",
    "\n",
    "with open('deduplicated_java_code.pickle', 'wb') as f:\n",
    "    pickle.dump(data_code_only, f)\n",
    "    \n",
    "# write to seperate files for java ast parser\n",
    "for i in range(len(data_code_only)):\n",
    "    with open(\"Java AST Parser/data/\"+str(i)+\".txt\", \"w\", encoding='utf8') as f:\n",
    "        f.write(data_code_only[i])"
   ]
  },
  {
   "cell_type": "code",
   "execution_count": null,
   "metadata": {},
   "outputs": [],
   "source": []
  },
  {
   "cell_type": "code",
   "execution_count": null,
   "metadata": {},
   "outputs": [],
   "source": []
  },
  {
   "cell_type": "code",
   "execution_count": null,
   "metadata": {},
   "outputs": [],
   "source": []
  },
  {
   "cell_type": "markdown",
   "metadata": {},
   "source": [
    "# generate dataset statistics"
   ]
  },
  {
   "cell_type": "code",
   "execution_count": 3,
   "metadata": {},
   "outputs": [
    {
     "name": "stdout",
     "output_type": "stream",
     "text": [
      "Assign:target->value & 78482 & 13384 & & & \\\\\n",
      "Attribute:value->attr & 158797 & 84215 & & & \\\\\n",
      "AugAssign:target->value & 3150 & / & & & \\\\\n",
      "BinOp:left->right & 26035 & / & & & \\\\\n",
      "BoolOp:value->value & 5783 & / & & & \\\\\n",
      "Call:args->keywords & 9256 & / & & & \\\\\n",
      "Call:func->args & 110949 & 50890 & & & \\\\\n",
      "Call:func->keywords & 16274 & / & & & \\\\\n",
      "Compare:left->comparator & 25852 & / & & & \\\\\n",
      "Dict:key->value & 7787 & / & & & \\\\\n",
      "DictComp:key->generator & 359 & / & & & \\\\\n",
      "DictComp:key->value & 359 & / & & & \\\\\n",
      "DictComp:value->generator & 359 & / & & & \\\\\n",
      "Do:body->test & / & 38 & & & \\\\\n",
      "Do:do->body & / & 45 & & & \\\\\n",
      "Do:do->test & / & 38 & & & \\\\\n",
      "For:for->body & 8704 & 1864 & & & \\\\\n",
      "For:for->initializers & / & 1650 & & & \\\\\n",
      "For:for->iter & 8704 & / & & & \\\\\n",
      "For:for->target & 8704 & / & & & \\\\\n",
      "For:for->test & / & 1296 & & & \\\\\n",
      "For:for->updaters & / & 1682 & & & \\\\\n",
      "For:initializers->body & / & 1781 & & & \\\\\n",
      "For:initializers->test & / & 1286 & & & \\\\\n",
      "For:initializers->updaters & / & 1670 & & & \\\\\n",
      "For:iter->body & 8704 & / & & & \\\\\n",
      "For:target->body & 8704 & / & & & \\\\\n",
      "For:target->iter & 8704 & / & & & \\\\\n",
      "For:test->body & / & 1789 & & & \\\\\n",
      "For:test->updaters & / & 1678 & & & \\\\\n",
      "For:updaters->body & / & 1685 & & & \\\\\n",
      "GeneratorExp:elt->generator & 685 & / & & & \\\\\n",
      "If:body->orelse & 11024 & 4976 & & & \\\\\n",
      "If:if->body & 34250 & 22392 & & & \\\\\n",
      "If:if->else & 11024 & 5038 & & & \\\\\n",
      "If:if->test & 34250 & 19323 & & & \\\\\n",
      "If:test->body & 34250 & 22392 & & & \\\\\n",
      "If:test->orelse & 11024 & 5007 & & & \\\\\n",
      "IfExp:body->orelse & 1262 & 1173 & & & \\\\\n",
      "IfExp:body->test & 1262 & / & & & \\\\\n",
      "IfExp:test->body & / & 1218 & & & \\\\\n",
      "IfExp:test->orelse & 1262 & 1173 & & & \\\\\n",
      "InfixExpr:left->right & / & 35170 & & & \\\\\n",
      "InstanceofExpr:expr->type & / & 1367 & & & \\\\\n",
      "LabeledStatement:label->body & / & 10 & & & \\\\\n",
      "ListComp:elt->generator & 2691 & / & & & \\\\\n",
      "SetComp:elt->generator & 67 & / & & & \\\\\n",
      "Slice:lower->upper & 731 & / & & & \\\\\n",
      "Subscript:value->slice & 39271 & 4555 & & & \\\\\n",
      "Switch:expr->statement & / & 385 & & & \\\\\n",
      "Switch:switch->expr & / & 320 & & & \\\\\n",
      "Switch:switch->statement & / & 385 & & & \\\\\n",
      "Try:body->finalbody & 135 & 474 & & & \\\\\n",
      "Try:body->handler & 3020 & 2011 & & & \\\\\n",
      "Try:body->orelse & 181 & / & & & \\\\\n",
      "Try:handler->finalbody & 48 & 186 & & & \\\\\n",
      "Try:handler->orelse & 181 & / & & & \\\\\n",
      "While:test->body & 743 & 975 & & & \\\\\n",
      "While:while->body & 743 & 975 & & & \\\\\n",
      "While:while->test & 743 & 416 & & & \\\\\n",
      "With:item->body & 1239 & / & & & \\\\\n",
      "children:parent->child & 652417 & 569499 & & & \\\\\n",
      "comprehension:target->iter & 3881 & / & & & \\\\\n",
      "total_count 1342050 total_count_java 864411\n"
     ]
    }
   ],
   "source": [
    "# dataset statistics\n",
    "\n",
    "def get_relns(dataset):\n",
    "    relns = set()\n",
    "    for example in dataset:\n",
    "        for reln in example[\"relns\"].keys():\n",
    "            relns.add(reln)\n",
    "    relns = list(relns)\n",
    "    relns.sort()\n",
    "    return relns\n",
    "\n",
    "def get_relns_and_count(dataset):\n",
    "    count = {}\n",
    "    for reln in get_relns(dataset):\n",
    "        count[reln] = 0\n",
    "    for example in dataset:\n",
    "        for reln in example[\"relns\"].keys():\n",
    "            count[reln] += len(example[\"relns\"][reln])\n",
    "    return count\n",
    "\n",
    "with open(\"../CodeSyntax/CodeSyntax_python.json\", 'r') as f:\n",
    "    dataset = json.load(f)\n",
    "with open(\"../CodeSyntax/CodeSyntax_java.json\", 'r') as f:\n",
    "    dataset_java = json.load(f)\n",
    "count = get_relns_and_count(dataset)\n",
    "count_java = get_relns_and_count(dataset_java)\n",
    "relns = list(count.keys())\n",
    "relns.extend(list(count_java.keys()))\n",
    "relns = list(set(relns))\n",
    "relns.sort()\n",
    "total_count = 0\n",
    "total_count_java = 0\n",
    "for reln in relns:\n",
    "    line = reln + \" & \" \n",
    "    line += str(count[reln]) if reln in count else \"/\"\n",
    "    if reln in count: total_count += count[reln]\n",
    "    line += \" & \" \n",
    "    line += str(count_java[reln]) if reln in count_java else \"/\"\n",
    "    if reln in count_java: total_count_java += count_java[reln]\n",
    "    line += \" & & & \\\\\\\\\"\n",
    "    print(line)\n",
    "print(\"total_count\", total_count, \"total_count_java\", total_count_java)"
   ]
  },
  {
   "cell_type": "code",
   "execution_count": 4,
   "metadata": {},
   "outputs": [],
   "source": [
    "# offset distribution plot\n",
    "\n",
    "with open(\"../CodeSyntax/CodeSyntax_python.json\", 'r') as f:\n",
    "    dataset = json.load(f)\n",
    "with open(\"../CodeSyntax/CodeSyntax_java.json\", 'r') as f:\n",
    "    dataset_java = json.load(f)\n",
    "\n",
    "reln_to_offset = [{}, {}]\n",
    "for i, d in [(0, dataset), (1, dataset_java)]:\n",
    "    relns = get_relns(d)\n",
    "    reln_to_offset[i][\"start\"] = []\n",
    "    reln_to_offset[i][\"end\"] = []\n",
    "    for reln in relns:\n",
    "        sum1, sum2, count = 0, 0, 0\n",
    "        for example in d:\n",
    "            if reln in example[\"relns\"]:\n",
    "                labels = example[\"relns\"][reln]\n",
    "                for dep_idx, head_start_idx, head_end_idx in labels:\n",
    "                    sum1 += head_start_idx - dep_idx\n",
    "                    sum2 += head_end_idx - dep_idx\n",
    "                    count += 1\n",
    "        reln_to_offset[i][\"start\"].append(sum1/count)\n",
    "        reln_to_offset[i][\"end\"].append(sum2/count)\n",
    "    reln_to_offset[i][\"start\"].sort()\n",
    "    reln_to_offset[i][\"end\"].sort()"
   ]
  },
  {
   "cell_type": "code",
   "execution_count": 8,
   "metadata": {},
   "outputs": [
    {
     "data": {
      "image/png": "[encoded data removed]",
      "text/plain": [
       "<Figure size 432x288 with 1 Axes>"
      ]
     },
     "metadata": {
      "needs_background": "light"
     },
     "output_type": "display_data"
    },
    {
     "data": {
      "image/png": "[encoded data removed]",
      "text/plain": [
       "<Figure size 432x288 with 1 Axes>"
      ]
     },
     "metadata": {
      "needs_background": "light"
     },
     "output_type": "display_data"
    }
   ],
   "source": [
    "fig, ax = plt.subplots(figsize=(8,5))\n",
    "sns.histplot(reln_to_offset[0][\"start\"], binwidth=5, color=\"dodgerblue\", label=\"python\", alpha=0.5)\n",
    "sns.histplot(reln_to_offset[1][\"start\"], binwidth=5, color=\"red\", label=\"java\", alpha=0.5)\n",
    "plt.xlabel(\"offset\")\n",
    "plt.legend()\n",
    "fig.set_size_inches(6., 4)\n",
    "plt.xticks(list(range(0, 200, 20)))\n",
    "fig.savefig(\"../data/figures/offset_distribution_start.pdf\", bbox_inches='tight')\n",
    "plt.show()\n",
    "\n",
    "fig, ax = plt.subplots(figsize=(8,5))\n",
    "sns.histplot(reln_to_offset[0][\"end\"], binwidth=10, color=\"dodgerblue\", label=\"python\", alpha=0.5)\n",
    "sns.histplot(reln_to_offset[1][\"end\"], binwidth=10, color=\"r\", label=\"java\", alpha=0.5)\n",
    "plt.xlabel(\"offset\")\n",
    "plt.legend()\n",
    "fig.set_size_inches(6., 4)\n",
    "plt.xticks(list(range(0, 401, 40)))\n",
    "fig.savefig(\"../data/figures/offset_distribution_end.pdf\", bbox_inches='tight')\n",
    "plt.show()\n"
   ]
  },
  {
   "cell_type": "code",
   "execution_count": null,
   "metadata": {},
   "outputs": [],
   "source": []
  }
 ],
 "metadata": {
  "kernelspec": {
   "display_name": "Python 3",
   "language": "python",
   "name": "python3"
  },
  "language_info": {
   "codemirror_mode": {
    "name": "ipython",
    "version": 3
   },
   "file_extension": ".py",
   "mimetype": "text/x-python",
   "name": "python",
   "nbconvert_exporter": "python",
   "pygments_lexer": "ipython3",
   "version": "3.6.13"
  }
 },
 "nbformat": 4,
 "nbformat_minor": 2
}
